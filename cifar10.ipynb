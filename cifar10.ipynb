{
  "nbformat": 4,
  "nbformat_minor": 0,
  "metadata": {
    "colab": {
      "provenance": []
    },
    "kernelspec": {
      "name": "python3",
      "display_name": "Python 3"
    },
    "language_info": {
      "name": "python"
    }
  },
  "cells": [
    {
      "cell_type": "code",
      "metadata": {
        "colab": {
          "base_uri": "https://localhost:8080/"
        },
        "id": "loL5v1Hk0Jnv",
        "outputId": "348eaf51-28cc-47fd-d6c2-3f4e5c2e6fb6"
      },
      "source": [
        "%tensorflow_version 2 .x\n",
        "import tensorflow as tf\n",
        "from tensorflow.keras import datasets, layers, models\n",
        "import matplotlib.pyplot as plt\n",
        "\n",
        "(train_images, train_labels), (test_images, test_labels) = datasets.cifar10.load_data()\n",
        "\n",
        "train_images, test_images = train_images/255.0, test_images/255.0\n",
        "class_names = ['airplane', 'automobile', 'bird', 'cat', 'deer', 'dog', 'frog', 'horse', 'ship', 'truck']\n",
        "\n",
        "# I tried my best to use a simplified VGG-19 Architecture\n",
        "model = models.Sequential([\n",
        "    layers.Conv2D(64, (3, 3), activation='relu', input_shape=(32, 32, 3)),\n",
        "    layers.MaxPooling2D((2, 2)),\n",
        "    layers.Conv2D(128, (3, 3), activation='relu', padding='same'),\n",
        "    layers.MaxPooling2D((2, 2)),\n",
        "    layers.Conv2D(256, (3, 3), activation='relu', padding='same'),\n",
        "    layers.MaxPooling2D((2, 2)),\n",
        "    layers.Conv2D(512, (3, 3), activation='relu', padding='same'),\n",
        "    layers.MaxPooling2D((2, 2)),\n",
        "    layers.Conv2D(512, (3, 3), activation='relu', padding='same'),\n",
        "    layers.Flatten(),\n",
        "    layers.Dense(64, activation='relu'),\n",
        "    layers.Dense(10, activation='softmax')\n",
        "])\n",
        "\n",
        "model.compile(optimizer='adam', loss=tf.keras.losses.SparseCategoricalCrossentropy(from_logits=True),\n",
        "    metrics=['accuracy'])\n",
        "\n",
        "history = model.fit(train_images, train_labels, epochs=10, validation_data=(test_images, test_labels))\n",
        "\n",
        "model.save(\"cifar10_vgg19type_convolutionalNeuralNetwork.h5\")\n",
        "print(\"done\")"
      ],
      "execution_count": null,
      "outputs": [
        {
          "output_type": "stream",
          "text": [
            "Downloading data from https://www.cs.toronto.edu/~kriz/cifar-10-python.tar.gz\n",
            "170500096/170498071 [==============================] - 4s 0us/step\n",
            "170508288/170498071 [==============================] - 4s 0us/step\n",
            "Epoch 1/10\n"
          ],
          "name": "stdout"
        },
        {
          "output_type": "stream",
          "text": [
            "/usr/local/lib/python3.7/dist-packages/keras/backend.py:4907: UserWarning: \"`sparse_categorical_crossentropy` received `from_logits=True`, but the `output` argument was produced by a sigmoid or softmax activation and thus does not represent logits. Was this intended?\"\n",
            "  '\"`sparse_categorical_crossentropy` received `from_logits=True`, but '\n"
          ],
          "name": "stderr"
        },
        {
          "output_type": "stream",
          "text": [
            "1563/1563 [==============================] - 828s 529ms/step - loss: 1.5725 - accuracy: 0.4128 - val_loss: 1.1891 - val_accuracy: 0.5726\n",
            "Epoch 2/10\n",
            "1563/1563 [==============================] - 834s 533ms/step - loss: 1.0758 - accuracy: 0.6212 - val_loss: 0.9837 - val_accuracy: 0.6622\n",
            "Epoch 3/10\n",
            "1563/1563 [==============================] - 832s 533ms/step - loss: 0.8521 - accuracy: 0.7023 - val_loss: 0.8590 - val_accuracy: 0.7038\n",
            "Epoch 4/10\n",
            "1563/1563 [==============================] - 820s 525ms/step - loss: 0.7049 - accuracy: 0.7539 - val_loss: 0.8488 - val_accuracy: 0.7139\n",
            "Epoch 5/10\n",
            "1563/1563 [==============================] - 816s 522ms/step - loss: 0.5913 - accuracy: 0.7940 - val_loss: 0.8156 - val_accuracy: 0.7296\n",
            "Epoch 6/10\n",
            "1563/1563 [==============================] - 820s 525ms/step - loss: 0.4958 - accuracy: 0.8283 - val_loss: 0.8311 - val_accuracy: 0.7288\n",
            "Epoch 7/10\n",
            "1563/1563 [==============================] - 817s 522ms/step - loss: 0.4186 - accuracy: 0.8529 - val_loss: 0.8596 - val_accuracy: 0.7342\n",
            "Epoch 8/10\n",
            "1563/1563 [==============================] - 815s 522ms/step - loss: 0.3439 - accuracy: 0.8803 - val_loss: 0.8888 - val_accuracy: 0.7426\n",
            "Epoch 9/10\n",
            "1563/1563 [==============================] - 817s 523ms/step - loss: 0.2857 - accuracy: 0.8995 - val_loss: 0.9591 - val_accuracy: 0.7388\n",
            "Epoch 10/10\n",
            "1563/1563 [==============================] - 808s 517ms/step - loss: 0.2454 - accuracy: 0.9143 - val_loss: 1.0563 - val_accuracy: 0.7296\n",
            "done\n"
          ],
          "name": "stdout"
        }
      ]
    },
    {
      "cell_type": "code",
      "metadata": {
        "colab": {
          "base_uri": "https://localhost:8080/",
          "height": 34
        },
        "id": "1lDUANauUI0L",
        "outputId": "4f7decee-0648-4fee-af12-5ef13ffbd281"
      },
      "source": [
        "from google.colab import files\n",
        "files.download(\"cifar10_vgg19type_convolutionalNeuralNetwork.h5\")"
      ],
      "execution_count": null,
      "outputs": [
        {
          "output_type": "display_data",
          "data": {
            "application/javascript": [
              "\n",
              "    async function download(id, filename, size) {\n",
              "      if (!google.colab.kernel.accessAllowed) {\n",
              "        return;\n",
              "      }\n",
              "      const div = document.createElement('div');\n",
              "      const label = document.createElement('label');\n",
              "      label.textContent = `Downloading \"${filename}\": `;\n",
              "      div.appendChild(label);\n",
              "      const progress = document.createElement('progress');\n",
              "      progress.max = size;\n",
              "      div.appendChild(progress);\n",
              "      document.body.appendChild(div);\n",
              "\n",
              "      const buffers = [];\n",
              "      let downloaded = 0;\n",
              "\n",
              "      const channel = await google.colab.kernel.comms.open(id);\n",
              "      // Send a message to notify the kernel that we're ready.\n",
              "      channel.send({})\n",
              "\n",
              "      for await (const message of channel.messages) {\n",
              "        // Send a message to notify the kernel that we're ready.\n",
              "        channel.send({})\n",
              "        if (message.buffers) {\n",
              "          for (const buffer of message.buffers) {\n",
              "            buffers.push(buffer);\n",
              "            downloaded += buffer.byteLength;\n",
              "            progress.value = downloaded;\n",
              "          }\n",
              "        }\n",
              "      }\n",
              "      const blob = new Blob(buffers, {type: 'application/binary'});\n",
              "      const a = document.createElement('a');\n",
              "      a.href = window.URL.createObjectURL(blob);\n",
              "      a.download = filename;\n",
              "      div.appendChild(a);\n",
              "      a.click();\n",
              "      div.remove();\n",
              "    }\n",
              "  "
            ],
            "text/plain": [
              "<IPython.core.display.Javascript object>"
            ]
          },
          "metadata": {}
        },
        {
          "output_type": "display_data",
          "data": {
            "application/javascript": [
              "download(\"download_adb69891-8ea4-4dc7-96a0-69ee596a1a43\", \"cifar10_vgg19type_convolutionalNeuralNetwork.h5\", 47399640)"
            ],
            "text/plain": [
              "<IPython.core.display.Javascript object>"
            ]
          },
          "metadata": {}
        }
      ]
    }
  ]
}